{
 "cells": [
  {
   "cell_type": "code",
   "execution_count": 1,
   "id": "9f1d2971",
   "metadata": {},
   "outputs": [
    {
     "data": {
      "text/plain": [
       "[19, 22, 19, 24, 20, 25, 26, 24, 25, 24]"
      ]
     },
     "execution_count": 1,
     "metadata": {},
     "output_type": "execute_result"
    }
   ],
   "source": [
    "#Defining a list of 10 students ages\n",
    "ages = [19,22,19,24,20,25,26,24,25,24]\n",
    "ages"
   ]
  },
  {
   "cell_type": "code",
   "execution_count": 2,
   "id": "b03130fd",
   "metadata": {},
   "outputs": [],
   "source": [
    "#Sorting the list\n",
    "ages.sort()"
   ]
  },
  {
   "cell_type": "code",
   "execution_count": 3,
   "id": "06da88b5",
   "metadata": {},
   "outputs": [
    {
     "data": {
      "text/plain": [
       "[19, 19, 20, 22, 24, 24, 24, 25, 25, 26]"
      ]
     },
     "execution_count": 3,
     "metadata": {},
     "output_type": "execute_result"
    }
   ],
   "source": [
    "ages"
   ]
  },
  {
   "cell_type": "code",
   "execution_count": 4,
   "id": "febb35bc",
   "metadata": {},
   "outputs": [
    {
     "data": {
      "text/plain": [
       "19"
      ]
     },
     "execution_count": 4,
     "metadata": {},
     "output_type": "execute_result"
    }
   ],
   "source": [
    "#Finding minimum of age\n",
    "Minimum = min(ages)\n",
    "Minimum"
   ]
  },
  {
   "cell_type": "code",
   "execution_count": 5,
   "id": "0f6277cc",
   "metadata": {},
   "outputs": [
    {
     "data": {
      "text/plain": [
       "26"
      ]
     },
     "execution_count": 5,
     "metadata": {},
     "output_type": "execute_result"
    }
   ],
   "source": [
    "#Finding Maximum of age\n",
    "Maximum = max(ages)\n",
    "Maximum"
   ]
  },
  {
   "cell_type": "code",
   "execution_count": 6,
   "id": "66d203e6",
   "metadata": {},
   "outputs": [
    {
     "data": {
      "text/plain": [
       "[19, 19, 20, 22, 24, 24, 24, 25, 25, 26, 19, 26]"
      ]
     },
     "execution_count": 6,
     "metadata": {},
     "output_type": "execute_result"
    }
   ],
   "source": [
    "#Adding Min and Max age again to the list ages\n",
    "ages.append(Minimum)\n",
    "ages.append(Maximum)\n",
    "ages"
   ]
  },
  {
   "cell_type": "code",
   "execution_count": 7,
   "id": "d8ea8242",
   "metadata": {},
   "outputs": [
    {
     "data": {
      "text/plain": [
       "12"
      ]
     },
     "execution_count": 7,
     "metadata": {},
     "output_type": "execute_result"
    }
   ],
   "source": [
    "#Median Age \n",
    "L = len(ages) #Calculating Length of the list ages\n",
    "L"
   ]
  },
  {
   "cell_type": "code",
   "execution_count": 8,
   "id": "3da296ea",
   "metadata": {},
   "outputs": [
    {
     "data": {
      "text/plain": [
       "24.0"
      ]
     },
     "execution_count": 8,
     "metadata": {},
     "output_type": "execute_result"
    }
   ],
   "source": [
    "#No of values in a list are even then median will be average of the two mid values of a list\n",
    "A = int(L/2 -1) #A be the predecessor to the mid value in a list because list Index starts at 0\n",
    "B = int(L/2) #B be the mid value in a list at Index 6\n",
    "Median = (ages[A]+ages[B])/2\n",
    "Median"
   ]
  },
  {
   "cell_type": "code",
   "execution_count": 9,
   "id": "f619f372",
   "metadata": {},
   "outputs": [
    {
     "data": {
      "text/plain": [
       "22.75"
      ]
     },
     "execution_count": 9,
     "metadata": {},
     "output_type": "execute_result"
    }
   ],
   "source": [
    "#Average of List ages\n",
    "S = sum(ages) #S be the Sum of all ages in a list ages\n",
    "L = len(ages) #L be the length of the list\n",
    "Average = S/L #Average can be calculated by sum of the values divided by Total no of Values in a list\n",
    "Average"
   ]
  },
  {
   "cell_type": "code",
   "execution_count": 10,
   "id": "43e438a7",
   "metadata": {},
   "outputs": [
    {
     "data": {
      "text/plain": [
       "7"
      ]
     },
     "execution_count": 10,
     "metadata": {},
     "output_type": "execute_result"
    }
   ],
   "source": [
    "#Finding range of the ages\n",
    "Maximum = max(ages)\n",
    "Minimum = min(ages)\n",
    "Range = Maximum - Minimum #Range means difference between maximum and minimum values in a list\n",
    "Range"
   ]
  },
  {
   "cell_type": "code",
   "execution_count": null,
   "id": "c6e48db6",
   "metadata": {},
   "outputs": [],
   "source": []
  },
  {
   "cell_type": "code",
   "execution_count": 11,
   "id": "44dbc127",
   "metadata": {},
   "outputs": [],
   "source": [
    "#QUESTION 2"
   ]
  },
  {
   "cell_type": "code",
   "execution_count": 12,
   "id": "4e18c376",
   "metadata": {},
   "outputs": [
    {
     "data": {
      "text/plain": [
       "{}"
      ]
     },
     "execution_count": 12,
     "metadata": {},
     "output_type": "execute_result"
    }
   ],
   "source": [
    "#Creating a Empty Dictionary\n",
    "Dog = {}\n",
    "Dog"
   ]
  },
  {
   "cell_type": "code",
   "execution_count": 13,
   "id": "9af542da",
   "metadata": {},
   "outputs": [
    {
     "data": {
      "text/plain": [
       "{'name': 'ABC', 'color': 'Yellow', 'breed': 'DEF', 'legs': 4, 'age': 15}"
      ]
     },
     "execution_count": 13,
     "metadata": {},
     "output_type": "execute_result"
    }
   ],
   "source": [
    "#Appending values to a Dog Dictionary\n",
    "Dog.update({\"name\" :\"ABC\", \"color\" : \"Yellow\", \"breed\" :\"DEF\", \"legs\" : 4, \"age\" : 15})\n",
    "Dog"
   ]
  },
  {
   "cell_type": "code",
   "execution_count": 14,
   "id": "6497cd80",
   "metadata": {},
   "outputs": [
    {
     "data": {
      "text/plain": [
       "{'first_name': '',\n",
       " 'last_name': '',\n",
       " 'gender': '',\n",
       " 'age': '',\n",
       " 'marital status': '',\n",
       " 'skills': [],\n",
       " 'country': '',\n",
       " 'city': '',\n",
       " 'address': ''}"
      ]
     },
     "execution_count": 14,
     "metadata": {},
     "output_type": "execute_result"
    }
   ],
   "source": [
    "#Creating a Student Dictionary\n",
    "Student = {\"first_name\" : \"\", \"last_name\" : \"\",\"gender\": \"\", \"age\": \"\", \"marital status\": \"\", \"skills\":[], \"country\": \"\", \"city\":\"\", \"address\": \"\"}\n",
    "Student"
   ]
  },
  {
   "cell_type": "code",
   "execution_count": 15,
   "id": "279ce2d9",
   "metadata": {},
   "outputs": [
    {
     "data": {
      "text/plain": [
       "9"
      ]
     },
     "execution_count": 15,
     "metadata": {},
     "output_type": "execute_result"
    }
   ],
   "source": [
    "#Length of Student Dictionary\n",
    "len(Student)"
   ]
  },
  {
   "cell_type": "code",
   "execution_count": 16,
   "id": "d0b0e3cd",
   "metadata": {},
   "outputs": [
    {
     "data": {
      "text/plain": [
       "[]"
      ]
     },
     "execution_count": 16,
     "metadata": {},
     "output_type": "execute_result"
    }
   ],
   "source": [
    "#Print values of Skills\n",
    "S = Student['skills']\n",
    "S"
   ]
  },
  {
   "cell_type": "code",
   "execution_count": 17,
   "id": "1c3dea84",
   "metadata": {},
   "outputs": [
    {
     "data": {
      "text/plain": [
       "list"
      ]
     },
     "execution_count": 17,
     "metadata": {},
     "output_type": "execute_result"
    }
   ],
   "source": [
    "type(S)"
   ]
  },
  {
   "cell_type": "code",
   "execution_count": 18,
   "id": "70b48b99",
   "metadata": {},
   "outputs": [
    {
     "data": {
      "text/plain": [
       "['Python', 'ML']"
      ]
     },
     "execution_count": 18,
     "metadata": {},
     "output_type": "execute_result"
    }
   ],
   "source": [
    "#Modifying skill values\n",
    "Student[\"skills\"].append('Python')\n",
    "Student[\"skills\"].append('ML')\n",
    "Student['skills']"
   ]
  },
  {
   "cell_type": "code",
   "execution_count": 19,
   "id": "c9659e52",
   "metadata": {},
   "outputs": [
    {
     "data": {
      "text/plain": [
       "{'first_name': '',\n",
       " 'last_name': '',\n",
       " 'gender': '',\n",
       " 'age': '',\n",
       " 'marital status': '',\n",
       " 'skills': ['Python', 'ML'],\n",
       " 'country': '',\n",
       " 'city': '',\n",
       " 'address': ''}"
      ]
     },
     "execution_count": 19,
     "metadata": {},
     "output_type": "execute_result"
    }
   ],
   "source": [
    "Student"
   ]
  },
  {
   "cell_type": "code",
   "execution_count": 20,
   "id": "a43e4f20",
   "metadata": {},
   "outputs": [
    {
     "data": {
      "text/plain": [
       "dict_keys(['first_name', 'last_name', 'gender', 'age', 'marital status', 'skills', 'country', 'city', 'address'])"
      ]
     },
     "execution_count": 20,
     "metadata": {},
     "output_type": "execute_result"
    }
   ],
   "source": [
    "#Printing keys of Student Dictionary\n",
    "Student.keys()"
   ]
  },
  {
   "cell_type": "code",
   "execution_count": 21,
   "id": "7600f550",
   "metadata": {},
   "outputs": [
    {
     "data": {
      "text/plain": [
       "['first_name',\n",
       " 'last_name',\n",
       " 'gender',\n",
       " 'age',\n",
       " 'marital status',\n",
       " 'skills',\n",
       " 'country',\n",
       " 'city',\n",
       " 'address']"
      ]
     },
     "execution_count": 21,
     "metadata": {},
     "output_type": "execute_result"
    }
   ],
   "source": [
    "#Printing keys of Student Dictionary as list\n",
    "list(Student.keys())"
   ]
  },
  {
   "cell_type": "code",
   "execution_count": 22,
   "id": "4b7018a2",
   "metadata": {},
   "outputs": [
    {
     "data": {
      "text/plain": [
       "['', '', '', '', '', ['Python', 'ML'], '', '', '']"
      ]
     },
     "execution_count": 22,
     "metadata": {},
     "output_type": "execute_result"
    }
   ],
   "source": [
    "#Printing values of Student Dictionary as list\n",
    "list(Student.values())"
   ]
  },
  {
   "cell_type": "code",
   "execution_count": null,
   "id": "383fed37",
   "metadata": {},
   "outputs": [],
   "source": []
  },
  {
   "cell_type": "code",
   "execution_count": 23,
   "id": "3cbd7dde",
   "metadata": {},
   "outputs": [],
   "source": [
    "#QUESTION 3"
   ]
  },
  {
   "cell_type": "code",
   "execution_count": 24,
   "id": "8ea0966d",
   "metadata": {},
   "outputs": [],
   "source": [
    "#Creating a Sisters and Brothers tuples\n",
    "Sisters = ('Pooja','Shruti','Samyuktha','kriti')\n",
    "Brothers = ('Mahesh','Vijay','Akhil','Balakrishna')"
   ]
  },
  {
   "cell_type": "code",
   "execution_count": 25,
   "id": "8b663380",
   "metadata": {},
   "outputs": [
    {
     "data": {
      "text/plain": [
       "('Pooja', 'Shruti', 'Samyuktha', 'kriti')"
      ]
     },
     "execution_count": 25,
     "metadata": {},
     "output_type": "execute_result"
    }
   ],
   "source": [
    "Sisters"
   ]
  },
  {
   "cell_type": "code",
   "execution_count": 26,
   "id": "eeb3962a",
   "metadata": {},
   "outputs": [
    {
     "data": {
      "text/plain": [
       "('Mahesh', 'Vijay', 'Akhil', 'Balakrishna')"
      ]
     },
     "execution_count": 26,
     "metadata": {},
     "output_type": "execute_result"
    }
   ],
   "source": [
    "Brothers"
   ]
  },
  {
   "cell_type": "code",
   "execution_count": 27,
   "id": "7f7448dc",
   "metadata": {},
   "outputs": [
    {
     "data": {
      "text/plain": [
       "('Mahesh',\n",
       " 'Vijay',\n",
       " 'Akhil',\n",
       " 'Balakrishna',\n",
       " 'Pooja',\n",
       " 'Shruti',\n",
       " 'Samyuktha',\n",
       " 'kriti')"
      ]
     },
     "execution_count": 27,
     "metadata": {},
     "output_type": "execute_result"
    }
   ],
   "source": [
    "#Concatenating Sisters and Brothers tuples into a one tuple name it as siblings\n",
    "Siblings = Brothers + Sisters\n",
    "Siblings"
   ]
  },
  {
   "cell_type": "code",
   "execution_count": 28,
   "id": "67916d0f",
   "metadata": {},
   "outputs": [
    {
     "data": {
      "text/plain": [
       "8"
      ]
     },
     "execution_count": 28,
     "metadata": {},
     "output_type": "execute_result"
    }
   ],
   "source": [
    "#Length of Sibilings tuple\n",
    "len(Siblings)"
   ]
  },
  {
   "cell_type": "code",
   "execution_count": 29,
   "id": "ea7cc1bb",
   "metadata": {},
   "outputs": [
    {
     "ename": "AttributeError",
     "evalue": "'tuple' object has no attribute 'append'",
     "output_type": "error",
     "traceback": [
      "\u001b[1;31m---------------------------------------------------------------------------\u001b[0m",
      "\u001b[1;31mAttributeError\u001b[0m                            Traceback (most recent call last)",
      "Input \u001b[1;32mIn [29]\u001b[0m, in \u001b[0;36m<cell line: 2>\u001b[1;34m()\u001b[0m\n\u001b[0;32m      1\u001b[0m \u001b[38;5;66;03m#Modifying Siblings Tuple\u001b[39;00m\n\u001b[1;32m----> 2\u001b[0m \u001b[43mSiblings\u001b[49m\u001b[38;5;241;43m.\u001b[39;49m\u001b[43mappend\u001b[49m(\u001b[38;5;124m'\u001b[39m\u001b[38;5;124mKrishna\u001b[39m\u001b[38;5;124m'\u001b[39m,\u001b[38;5;124m'\u001b[39m\u001b[38;5;124mIndiramma\u001b[39m\u001b[38;5;124m'\u001b[39m)\n",
      "\u001b[1;31mAttributeError\u001b[0m: 'tuple' object has no attribute 'append'"
     ]
    }
   ],
   "source": [
    "#Modifying Siblings Tuple\n",
    "Siblings.append('Krishna','Indiramma')"
   ]
  },
  {
   "cell_type": "code",
   "execution_count": 30,
   "id": "bbb43482",
   "metadata": {},
   "outputs": [
    {
     "data": {
      "text/plain": [
       "['Mahesh',\n",
       " 'Vijay',\n",
       " 'Akhil',\n",
       " 'Balakrishna',\n",
       " 'Pooja',\n",
       " 'Shruti',\n",
       " 'Samyuktha',\n",
       " 'kriti']"
      ]
     },
     "execution_count": 30,
     "metadata": {},
     "output_type": "execute_result"
    }
   ],
   "source": [
    "#As tuples are unchangables directly, but we can update the tuple by converting tuples into a list\n",
    "Change_tuple = list(Siblings) #converting tuple into a list\n",
    "Change_tuple\n"
   ]
  },
  {
   "cell_type": "code",
   "execution_count": 31,
   "id": "e3be513a",
   "metadata": {},
   "outputs": [
    {
     "data": {
      "text/plain": [
       "['Mahesh',\n",
       " 'Vijay',\n",
       " 'Akhil',\n",
       " 'Balakrishna',\n",
       " 'Pooja',\n",
       " 'Shruti',\n",
       " 'Samyuktha',\n",
       " 'kriti',\n",
       " 'Krishna',\n",
       " 'Indira']"
      ]
     },
     "execution_count": 31,
     "metadata": {},
     "output_type": "execute_result"
    }
   ],
   "source": [
    "Change_tuple.extend(['Krishna','Indira'])\n",
    "Change_tuple"
   ]
  },
  {
   "cell_type": "code",
   "execution_count": 32,
   "id": "1961afc3",
   "metadata": {},
   "outputs": [
    {
     "data": {
      "text/plain": [
       "('Mahesh',\n",
       " 'Vijay',\n",
       " 'Akhil',\n",
       " 'Balakrishna',\n",
       " 'Pooja',\n",
       " 'Shruti',\n",
       " 'Samyuktha',\n",
       " 'kriti',\n",
       " 'Krishna',\n",
       " 'Indira')"
      ]
     },
     "execution_count": 32,
     "metadata": {},
     "output_type": "execute_result"
    }
   ],
   "source": [
    "family_members = tuple(Change_tuple)\n",
    "family_members"
   ]
  },
  {
   "cell_type": "code",
   "execution_count": null,
   "id": "688a2768",
   "metadata": {},
   "outputs": [],
   "source": []
  },
  {
   "cell_type": "code",
   "execution_count": 33,
   "id": "9dde76fe",
   "metadata": {},
   "outputs": [],
   "source": [
    "#QUESTION 4"
   ]
  },
  {
   "cell_type": "code",
   "execution_count": 34,
   "id": "0b162311",
   "metadata": {},
   "outputs": [],
   "source": [
    "#Creating a sets it_companies, A, B, age\n",
    "it_companies = {'Facebook','Google','Microsoft','Apple','IBM','Oracle','Amazon'}\n",
    "A = {19,22,24,20,25,26}\n",
    "B = {19,22,20,25,26,24,28,27}\n",
    "age = [22,19,24,25,26,24,25,24]"
   ]
  },
  {
   "cell_type": "code",
   "execution_count": 35,
   "id": "5cf52458",
   "metadata": {},
   "outputs": [
    {
     "data": {
      "text/plain": [
       "7"
      ]
     },
     "execution_count": 35,
     "metadata": {},
     "output_type": "execute_result"
    }
   ],
   "source": [
    "#Length of set it_companies\n",
    "len(it_companies)"
   ]
  },
  {
   "cell_type": "code",
   "execution_count": 36,
   "id": "87e1a314",
   "metadata": {},
   "outputs": [
    {
     "data": {
      "text/plain": [
       "{'Amazon',\n",
       " 'Apple',\n",
       " 'Facebook',\n",
       " 'Google',\n",
       " 'IBM',\n",
       " 'Microsoft',\n",
       " 'Oracle',\n",
       " 'Twitter'}"
      ]
     },
     "execution_count": 36,
     "metadata": {},
     "output_type": "execute_result"
    }
   ],
   "source": [
    "#Adding 'twitter' to set it_companies\n",
    "it_companies.add(\"Twitter\")\n",
    "it_companies"
   ]
  },
  {
   "cell_type": "code",
   "execution_count": 37,
   "id": "dbaddd55",
   "metadata": {},
   "outputs": [
    {
     "data": {
      "text/plain": [
       "{'Amazon',\n",
       " 'Apple',\n",
       " 'Facebook',\n",
       " 'Google',\n",
       " 'IBM',\n",
       " 'Microsoft',\n",
       " 'Oracle',\n",
       " 'TCS',\n",
       " 'Twitter',\n",
       " 'Wipro'}"
      ]
     },
     "execution_count": 37,
     "metadata": {},
     "output_type": "execute_result"
    }
   ],
   "source": [
    "#Insert mutliple values into a set\n",
    "it_companies.update(['TCS','Wipro'])\n",
    "it_companies"
   ]
  },
  {
   "cell_type": "code",
   "execution_count": 38,
   "id": "1d4564c4",
   "metadata": {},
   "outputs": [
    {
     "data": {
      "text/plain": [
       "{'Amazon',\n",
       " 'Apple',\n",
       " 'Facebook',\n",
       " 'Google',\n",
       " 'IBM',\n",
       " 'Microsoft',\n",
       " 'Oracle',\n",
       " 'TCS',\n",
       " 'Twitter'}"
      ]
     },
     "execution_count": 38,
     "metadata": {},
     "output_type": "execute_result"
    }
   ],
   "source": [
    "#remove items from a set\n",
    "it_companies.remove('Wipro')\n",
    "it_companies"
   ]
  },
  {
   "cell_type": "code",
   "execution_count": 39,
   "id": "0de4b785",
   "metadata": {},
   "outputs": [
    {
     "ename": "KeyError",
     "evalue": "'MindTree'",
     "output_type": "error",
     "traceback": [
      "\u001b[1;31m---------------------------------------------------------------------------\u001b[0m",
      "\u001b[1;31mKeyError\u001b[0m                                  Traceback (most recent call last)",
      "Input \u001b[1;32mIn [39]\u001b[0m, in \u001b[0;36m<cell line: 1>\u001b[1;34m()\u001b[0m\n\u001b[1;32m----> 1\u001b[0m \u001b[43mit_companies\u001b[49m\u001b[38;5;241;43m.\u001b[39;49m\u001b[43mremove\u001b[49m\u001b[43m(\u001b[49m\u001b[38;5;124;43m'\u001b[39;49m\u001b[38;5;124;43mMindTree\u001b[39;49m\u001b[38;5;124;43m'\u001b[39;49m\u001b[43m)\u001b[49m\n",
      "\u001b[1;31mKeyError\u001b[0m: 'MindTree'"
     ]
    }
   ],
   "source": [
    "it_companies.remove('MindTree')"
   ]
  },
  {
   "cell_type": "code",
   "execution_count": 40,
   "id": "81d04191",
   "metadata": {},
   "outputs": [],
   "source": [
    "it_companies.discard('MindTree')"
   ]
  },
  {
   "cell_type": "code",
   "execution_count": 41,
   "id": "dc881121",
   "metadata": {},
   "outputs": [
    {
     "data": {
      "text/plain": [
       "{19, 20, 22, 24, 25, 26, 27, 28}"
      ]
     },
     "execution_count": 41,
     "metadata": {},
     "output_type": "execute_result"
    }
   ],
   "source": [
    "#Joining two sets\n",
    "C = A.union(B) #Joins two sets A and B and also removes duplicate items\n",
    "C"
   ]
  },
  {
   "cell_type": "code",
   "execution_count": 42,
   "id": "78979588",
   "metadata": {},
   "outputs": [
    {
     "data": {
      "text/plain": [
       "{19, 20, 22, 24, 25, 26}"
      ]
     },
     "execution_count": 42,
     "metadata": {},
     "output_type": "execute_result"
    }
   ],
   "source": [
    "#Intersecting two sets\n",
    "D = A.intersection(B) #Intersection will results common items b/w the two sets A and B\n",
    "D"
   ]
  },
  {
   "cell_type": "code",
   "execution_count": 43,
   "id": "7032c055",
   "metadata": {},
   "outputs": [
    {
     "data": {
      "text/plain": [
       "True"
      ]
     },
     "execution_count": 43,
     "metadata": {},
     "output_type": "execute_result"
    }
   ],
   "source": [
    "#Is A is subset of B\n",
    "A.issubset(B) #issubset function checks if all items in A present in B, if true then A is subset of B otherwise not."
   ]
  },
  {
   "cell_type": "code",
   "execution_count": 44,
   "id": "d9f45d16",
   "metadata": {},
   "outputs": [
    {
     "data": {
      "text/plain": [
       "False"
      ]
     },
     "execution_count": 44,
     "metadata": {},
     "output_type": "execute_result"
    }
   ],
   "source": [
    "#are A and B disjoint sets\n",
    "A.isdisjoint(B) #isdisjoint function checks if any item in set A present in B, if true not disjoint otherwise disjoint"
   ]
  },
  {
   "cell_type": "code",
   "execution_count": 45,
   "id": "2b2cc265",
   "metadata": {},
   "outputs": [
    {
     "data": {
      "text/plain": [
       "{19, 20, 22, 24, 25, 26, 27, 28}"
      ]
     },
     "execution_count": 45,
     "metadata": {},
     "output_type": "execute_result"
    }
   ],
   "source": [
    "#Insert one set items into another\n",
    "A.update(B) #Insert items from set B into set A\n",
    "A"
   ]
  },
  {
   "cell_type": "code",
   "execution_count": 46,
   "id": "f9883589",
   "metadata": {},
   "outputs": [
    {
     "data": {
      "text/plain": [
       "{19, 20, 22, 24, 25, 26, 27, 28}"
      ]
     },
     "execution_count": 46,
     "metadata": {},
     "output_type": "execute_result"
    }
   ],
   "source": [
    "B.update(A) #Insert items from set A into setB\n",
    "B"
   ]
  },
  {
   "cell_type": "code",
   "execution_count": 47,
   "id": "f5de07d0",
   "metadata": {},
   "outputs": [
    {
     "data": {
      "text/plain": [
       "set()"
      ]
     },
     "execution_count": 47,
     "metadata": {},
     "output_type": "execute_result"
    }
   ],
   "source": [
    "#Symmetric difference between two sets A and B\n",
    "A.symmetric_difference(B)"
   ]
  },
  {
   "cell_type": "code",
   "execution_count": 48,
   "id": "aa90efb7",
   "metadata": {},
   "outputs": [],
   "source": [
    "#Deleting the sets completely\n",
    "del A    #deletes the set A\n",
    "del B    #deletes the set B\n",
    "del it_companies #deletes the set it_companies"
   ]
  },
  {
   "cell_type": "code",
   "execution_count": 49,
   "id": "f728cf32",
   "metadata": {},
   "outputs": [
    {
     "ename": "NameError",
     "evalue": "name 'A' is not defined",
     "output_type": "error",
     "traceback": [
      "\u001b[1;31m---------------------------------------------------------------------------\u001b[0m",
      "\u001b[1;31mNameError\u001b[0m                                 Traceback (most recent call last)",
      "Input \u001b[1;32mIn [49]\u001b[0m, in \u001b[0;36m<cell line: 1>\u001b[1;34m()\u001b[0m\n\u001b[1;32m----> 1\u001b[0m \u001b[43mA\u001b[49m\n",
      "\u001b[1;31mNameError\u001b[0m: name 'A' is not defined"
     ]
    }
   ],
   "source": [
    "A"
   ]
  },
  {
   "cell_type": "code",
   "execution_count": 50,
   "id": "d732614a",
   "metadata": {},
   "outputs": [
    {
     "data": {
      "text/plain": [
       "[22, 19, 24, 25, 26, 24, 25, 24]"
      ]
     },
     "execution_count": 50,
     "metadata": {},
     "output_type": "execute_result"
    }
   ],
   "source": [
    "age"
   ]
  },
  {
   "cell_type": "code",
   "execution_count": 51,
   "id": "f3e51db4",
   "metadata": {},
   "outputs": [
    {
     "data": {
      "text/plain": [
       "{19, 22, 24, 25, 26}"
      ]
     },
     "execution_count": 51,
     "metadata": {},
     "output_type": "execute_result"
    }
   ],
   "source": [
    "#Converting a list age to a set\n",
    "sage = set(age)\n",
    "sage"
   ]
  },
  {
   "cell_type": "code",
   "execution_count": 52,
   "id": "1cee90b6",
   "metadata": {},
   "outputs": [
    {
     "data": {
      "text/plain": [
       "False"
      ]
     },
     "execution_count": 52,
     "metadata": {},
     "output_type": "execute_result"
    }
   ],
   "source": [
    "#comparing the lengths of age and sage\n",
    "len(age) == len(sage)"
   ]
  },
  {
   "cell_type": "code",
   "execution_count": null,
   "id": "7030705b",
   "metadata": {},
   "outputs": [],
   "source": []
  },
  {
   "cell_type": "code",
   "execution_count": 53,
   "id": "89355696",
   "metadata": {},
   "outputs": [],
   "source": [
    "#QUESTION 5"
   ]
  },
  {
   "cell_type": "code",
   "execution_count": 54,
   "id": "7fed5698",
   "metadata": {},
   "outputs": [
    {
     "data": {
      "text/plain": [
       "2826.0"
      ]
     },
     "execution_count": 54,
     "metadata": {},
     "output_type": "execute_result"
    }
   ],
   "source": [
    "#calculating area of circle\n",
    "radius = 30\n",
    "PI = 3.14\n",
    "_area_of_circle = PI * radius * radius\n",
    "_area_of_circle"
   ]
  },
  {
   "cell_type": "code",
   "execution_count": 55,
   "id": "a4a133c7",
   "metadata": {},
   "outputs": [
    {
     "data": {
      "text/plain": [
       "188.4"
      ]
     },
     "execution_count": 55,
     "metadata": {},
     "output_type": "execute_result"
    }
   ],
   "source": [
    "#calculating circumference of circle\n",
    "_circum_of_circle = 2 * PI * radius\n",
    "_circum_of_circle"
   ]
  },
  {
   "cell_type": "code",
   "execution_count": 56,
   "id": "943f3e2a",
   "metadata": {},
   "outputs": [
    {
     "name": "stdout",
     "output_type": "stream",
     "text": [
      "Enter radius30\n"
     ]
    },
    {
     "data": {
      "text/plain": [
       "2826.0"
      ]
     },
     "execution_count": 56,
     "metadata": {},
     "output_type": "execute_result"
    }
   ],
   "source": [
    "#claculate area by taking radius as user Input\n",
    "r = float(input(\"Enter radius\"))   #reading input from user\n",
    "area = PI * r * r   #formula to calculate area of circle\n",
    "area"
   ]
  },
  {
   "cell_type": "code",
   "execution_count": null,
   "id": "c5f098e3",
   "metadata": {},
   "outputs": [],
   "source": []
  },
  {
   "cell_type": "code",
   "execution_count": 57,
   "id": "c385c199",
   "metadata": {},
   "outputs": [],
   "source": [
    "#QUESTION 6"
   ]
  },
  {
   "cell_type": "code",
   "execution_count": 58,
   "id": "27766343",
   "metadata": {},
   "outputs": [
    {
     "data": {
      "text/plain": [
       "10"
      ]
     },
     "execution_count": 58,
     "metadata": {},
     "output_type": "execute_result"
    }
   ],
   "source": [
    "#Unique words in a sentence\n",
    "A = \"I am a teacher and I love to inspire and teach people\"\n",
    "B = set(A.split(\" \")) #First split() splits each word in a sentence and that will be stored in list.\n",
    "#list will be converted into set using set() because set doesn't contain duplicate values\n",
    "len(B)   #results no of unique words presents in the sentence"
   ]
  },
  {
   "cell_type": "code",
   "execution_count": null,
   "id": "001165b7",
   "metadata": {},
   "outputs": [],
   "source": []
  },
  {
   "cell_type": "code",
   "execution_count": 59,
   "id": "ac02e0d6",
   "metadata": {},
   "outputs": [],
   "source": [
    "#QUESTION 7"
   ]
  },
  {
   "cell_type": "code",
   "execution_count": 60,
   "id": "9fbb5272",
   "metadata": {},
   "outputs": [
    {
     "name": "stdout",
     "output_type": "stream",
     "text": [
      "Name\t\tAge\tCountry\tcity\n",
      "Asabench\t250\tFinland\tHelsinki\n"
     ]
    }
   ],
   "source": [
    "#tab escaping sequence\n",
    "print(\"Name\\t\\tAge\\tCountry\\tcity\\nAsabench\\t250\\tFinland\\tHelsinki\") \n",
    "#\\t creates tab space between the words\n",
    "#\\n to print words in new line"
   ]
  },
  {
   "cell_type": "code",
   "execution_count": null,
   "id": "4fd2970a",
   "metadata": {},
   "outputs": [],
   "source": []
  },
  {
   "cell_type": "code",
   "execution_count": 61,
   "id": "42c60191",
   "metadata": {},
   "outputs": [],
   "source": [
    "#QUESTION 8"
   ]
  },
  {
   "cell_type": "code",
   "execution_count": 62,
   "id": "3948af65",
   "metadata": {},
   "outputs": [
    {
     "name": "stdout",
     "output_type": "stream",
     "text": [
      "radius = 10\n",
      "area = 3.14 * radius **2 \n",
      "\"The area of a circle with radius 10 is 314.0 meter square.\"\n"
     ]
    }
   ],
   "source": [
    "#String formatting\n",
    "radius = 10     # circle radius\n",
    "area = 3.14 * radius ** 2      #formula to calculate area\n",
    "print(\"radius = {radius}\".format(radius = 10))\n",
    "print(\"area = {PI} * radius **2 \".format(PI=3.14))\n",
    "print(\"\\\"The area of a circle with radius {radius} is {area} meter square.\\\"\".format(radius = 10, area = 3.14 * radius **2))"
   ]
  },
  {
   "cell_type": "code",
   "execution_count": null,
   "id": "5be97cc6",
   "metadata": {},
   "outputs": [],
   "source": []
  },
  {
   "cell_type": "code",
   "execution_count": 63,
   "id": "e7df4db4",
   "metadata": {},
   "outputs": [],
   "source": [
    "#QUESTION 9"
   ]
  },
  {
   "cell_type": "code",
   "execution_count": 65,
   "id": "a907b3a0",
   "metadata": {},
   "outputs": [
    {
     "name": "stdout",
     "output_type": "stream",
     "text": [
      "Enter list size:4\n",
      "Enter weights(lbs) of N students150\n",
      "Enter weights(lbs) of N students155\n",
      "Enter weights(lbs) of N students145\n",
      "Enter weights(lbs) of N students148\n"
     ]
    },
    {
     "data": {
      "text/plain": [
       "[68.03955366052799, 70.30753878254558, 65.77156853851038, 67.13235961172094]"
      ]
     },
     "execution_count": 65,
     "metadata": {},
     "output_type": "execute_result"
    }
   ],
   "source": [
    "lbs= []         #list for weight in lbs. \n",
    "n = int(input(\"Enter list size:\"))  #Taking size of the list from the user \n",
    "for i in range(n):     #for loop to take input from the user\n",
    "    ele = int(input(\"Enter weights(lbs) of N students\")) #Taking the weight in lbs. from the user\n",
    "    lbs.append(ele)  #appending the weights from the user to list lbs\n",
    "kgs = [[]]*n    #List for weight in kgs\n",
    "for i in range(n):\n",
    "    kgs[i] = lbs[i]/2.2046 #calculating kgs for each weight and assigning them to kgs list with respective indexes\n",
    "kgs     #printing the items in kgs list\n",
    "    "
   ]
  },
  {
   "cell_type": "code",
   "execution_count": 66,
   "id": "660f0328",
   "metadata": {},
   "outputs": [
    {
     "data": {
      "text/plain": [
       "[150, 155, 145, 148]"
      ]
     },
     "execution_count": 66,
     "metadata": {},
     "output_type": "execute_result"
    }
   ],
   "source": [
    "lbs"
   ]
  },
  {
   "cell_type": "code",
   "execution_count": 67,
   "id": "ddc59bdb",
   "metadata": {},
   "outputs": [
    {
     "data": {
      "text/plain": [
       "[68.03955366052799, 70.30753878254558, 65.77156853851038, 67.13235961172094]"
      ]
     },
     "execution_count": 67,
     "metadata": {},
     "output_type": "execute_result"
    }
   ],
   "source": [
    "kgs"
   ]
  },
  {
   "cell_type": "code",
   "execution_count": null,
   "id": "7213144f",
   "metadata": {},
   "outputs": [],
   "source": []
  },
  {
   "cell_type": "code",
   "execution_count": 68,
   "id": "3d4be9ee",
   "metadata": {},
   "outputs": [],
   "source": [
    "#QUESTION 10"
   ]
  },
  {
   "cell_type": "code",
   "execution_count": 69,
   "id": "abc679cd",
   "metadata": {},
   "outputs": [
    {
     "name": "stdout",
     "output_type": "stream",
     "text": [
      "[[1 0]\n",
      " [2 0]\n",
      " [3 0]\n",
      " [6 0]]\n",
      "[0 0 1 1]\n"
     ]
    },
    {
     "data": {
      "text/plain": [
       "array([1, 1, 1, 1])"
      ]
     },
     "execution_count": 69,
     "metadata": {},
     "output_type": "execute_result"
    }
   ],
   "source": [
    "import numpy as np \n",
    "#sklearn is a package where we find Machine Learning algorithms \n",
    "from sklearn.model_selection import train_test_split  #tran_test_split to split data\n",
    "from sklearn.neighbors import KNeighborsClassifier    #To implement KNN\n",
    "x = np.array([[1,0],[2,0],[3,0],[6,0],[6,0],[7,0],[10,0],[11,0]]) #Datasets obtained from the given graph\n",
    "y = np.array([0,0,1,1,1,0,0,0]) #classes present at the respective data points\n",
    "#splitting the data into two equal half. first half is for training and later is for testing\n",
    "x_train, x_test, y_train, y_test = train_test_split(x,y,test_size = 0.5, random_state = 0, shuffle = False)\n",
    "print(x_train)  \n",
    "print(y_train)\n",
    "neighbor = KNeighborsClassifier(n_neighbors = 3)   #implementing KNN with k=3\n",
    "neighbor.fit(x_train,y_train)       #fit the KNN from the training data\n",
    "y_pred = neighbor.predict(x_test)   #predict the output for the data \n",
    "y_pred  #print the predictions "
   ]
  },
  {
   "cell_type": "code",
   "execution_count": 70,
   "id": "c4db4c63",
   "metadata": {},
   "outputs": [
    {
     "data": {
      "text/plain": [
       "array([[0, 3],\n",
       "       [0, 1]], dtype=int64)"
      ]
     },
     "execution_count": 70,
     "metadata": {},
     "output_type": "execute_result"
    }
   ],
   "source": [
    "from sklearn.metrics import confusion_matrix   #importing confusion matrix function from the sklearn package\n",
    "confusion_matrix(y_test,y_pred) #comparing the testing class labels with predicted class labels"
   ]
  },
  {
   "cell_type": "code",
   "execution_count": null,
   "id": "ebd14b33",
   "metadata": {},
   "outputs": [],
   "source": []
  }
 ],
 "metadata": {
  "kernelspec": {
   "display_name": "Python 3 (ipykernel)",
   "language": "python",
   "name": "python3"
  },
  "language_info": {
   "codemirror_mode": {
    "name": "ipython",
    "version": 3
   },
   "file_extension": ".py",
   "mimetype": "text/x-python",
   "name": "python",
   "nbconvert_exporter": "python",
   "pygments_lexer": "ipython3",
   "version": "3.9.12"
  }
 },
 "nbformat": 4,
 "nbformat_minor": 5
}
